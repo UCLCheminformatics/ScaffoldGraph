{
 "cells": [
  {
   "cell_type": "markdown",
   "metadata": {},
   "source": [
    "# ScaffoldGraph: Cytoscape Visualization\n",
    "\n",
    "ScaffoldGraph contains a utility to visualize scaffoldgraphs interactively in Jupyter using the [ipycytoscape](https://github.com/QuantStack/ipycytoscape) module.\n",
    "\n",
    "To use the utility ipycytoscape must be installed:\n",
    "\n",
    "`pip install ipycytoscape` or `conda install -c conda-forge ipycytoscape`"
   ]
  },
  {
   "cell_type": "code",
   "execution_count": 10,
   "metadata": {},
   "outputs": [],
   "source": [
    "import scaffoldgraph as sg\n",
    "import os\n",
    "\n",
    "# Import the visualization utility.\n",
    "from scaffoldgraph.vis.notebook import cytoscape"
   ]
  },
  {
   "cell_type": "markdown",
   "metadata": {},
   "source": [
    "The visualizer can be used for all scaffold graph types. Here we will use the `ScaffoldTree`."
   ]
  },
  {
   "cell_type": "code",
   "execution_count": 27,
   "metadata": {},
   "outputs": [
    {
     "data": {
      "application/vnd.jupyter.widget-view+json": {
       "model_id": "d19cd6f1a72444d0bdbb976f3722b5cf",
       "version_major": 2,
       "version_minor": 0
      },
      "text/plain": [
       "HBox(children=(HTML(value='ScaffoldTree'), FloatProgress(value=0.0, layout=Layout(flex='2'), max=199.0), HTML(…"
      ]
     },
     "metadata": {},
     "output_type": "display_data"
    },
    {
     "name": "stdout",
     "output_type": "stream",
     "text": [
      "\n",
      "Type: ScaffoldTree\n",
      "Number of molecule nodes: 199\n",
      "Number of scaffold nodes: 450\n",
      "Number of edges: 584\n",
      "Max hierarchy: 6\n",
      "Min hierarchy: 1\n",
      "\n"
     ]
    }
   ],
   "source": [
    "sdf_file = os.path.dirname(sg.__file__).replace('scaffoldgraph', 'examples/example.sdf')\n",
    "\n",
    "# Construct a ScaffoldTree.\n",
    "tree = sg.ScaffoldTree.from_sdf(sdf_file, progress=True)\n",
    "\n",
    "# Print a quick summary.\n",
    "print(sg.utils.summary(tree))"
   ]
  },
  {
   "cell_type": "markdown",
   "metadata": {},
   "source": [
    "Initialize the visualizer with the scaffold tree. Note that custom styles can also be specified, allowing customisation of the visualisation. e.g. colouring molecule nodes according to activity. For more information on styles see the [ipycytoscape documentation](https://ipycytoscape.readthedocs.io/en/latest/index.html). Here we will just use the default style provided."
   ]
  },
  {
   "cell_type": "code",
   "execution_count": 6,
   "metadata": {},
   "outputs": [],
   "source": [
    "visualizer = cytoscape.CytoscapeVisualizer(tree)  # initialize."
   ]
  },
  {
   "cell_type": "markdown",
   "metadata": {},
   "source": [
    "The visualizer allows the user to draw the whole graph or just a subset of the graph starting from a molecule or scaffold node. Given that the tree can often be very large visualizing small subsets if often a better idea.\n",
    "\n",
    "* visualizer.draw (draw the whole graph)\n",
    "* visualizer.draw_for_molecule (draw a molecule and its constituent scaffolds)\n",
    "* visualizer.draw_for_scaffold (draw a scaffold and its parent and/or children nodes)\n",
    "\n",
    "When drawing scaffold trees edges are annotated with the rule used during prioritization."
   ]
  },
  {
   "cell_type": "code",
   "execution_count": 19,
   "metadata": {},
   "outputs": [
    {
     "data": {
      "application/vnd.jupyter.widget-view+json": {
       "model_id": "c3de0d5f8fe04244901098bccc3e3138",
       "version_major": 2,
       "version_minor": 0
      },
      "text/plain": [
       "CytoscapeWidget(cytoscape_layout={'name': 'dagre', 'nodeSpacing': 50, 'edgeLengthVal': 50}, cytoscape_style=[{…"
      ]
     },
     "metadata": {},
     "output_type": "display_data"
    }
   ],
   "source": [
    "# Draw graph for PubChem ID '1201903'.\n",
    "widget = visualizer.draw_for_molecule('1201903')\n",
    "\n",
    "# Widget properties can be modified after construction. \n",
    "widget.layout.height = '600px'\n",
    "\n",
    "# display the widget.\n",
    "widget"
   ]
  },
  {
   "cell_type": "markdown",
   "metadata": {},
   "source": [
    "Using the hierarchy 1 scaffold from the last query ('1201903'), lets draw the subgraph originating from this scaffold ('c1ccncc1').\n",
    "\n",
    "When creating visualizations from scaffold there is an additional option `traversal` specifying the direction of subgraph creation {'child', 'parent', 'bidirectional'}. Specifying child will draw the subgraph toward the child molecules and parent will draw towards lower hierarchy scaffolds. Specifying bidirectional will construct the subgraph in both directions. The default traversal is 'child'."
   ]
  },
  {
   "cell_type": "code",
   "execution_count": 21,
   "metadata": {},
   "outputs": [
    {
     "data": {
      "application/vnd.jupyter.widget-view+json": {
       "model_id": "c33f4f8843474fa08fe80ba27f3ce68a",
       "version_major": 2,
       "version_minor": 0
      },
      "text/plain": [
       "CytoscapeWidget(cytoscape_layout={'name': 'dagre', 'nodeSpacing': 50, 'edgeLengthVal': 50}, cytoscape_style=[{…"
      ]
     },
     "metadata": {},
     "output_type": "display_data"
    }
   ],
   "source": [
    "# Draw graph for scaffold 'c1ccncc1'\n",
    "widget = visualizer.draw_for_scaffold('c1ccncc1', traversal='child')\n",
    "widget.layout.height = '600px'\n",
    "widget"
   ]
  },
  {
   "cell_type": "markdown",
   "metadata": {},
   "source": [
    "The layout can also be customised using the `layout_kwargs` argument passing arguments to the CytoscapeWidget.set_layout function. Here we change the algorithm for constructing the layou to 'breadthfirst'."
   ]
  },
  {
   "cell_type": "code",
   "execution_count": 22,
   "metadata": {},
   "outputs": [
    {
     "data": {
      "application/vnd.jupyter.widget-view+json": {
       "model_id": "90a9b007ca4044019846c10545c78d9e",
       "version_major": 2,
       "version_minor": 0
      },
      "text/plain": [
       "CytoscapeWidget(cytoscape_layout={'name': 'breadthfirst', 'nodeSpacing': 50, 'edgeLengthVal': 50}, cytoscape_s…"
      ]
     },
     "metadata": {},
     "output_type": "display_data"
    }
   ],
   "source": [
    "# Draw graph for scaffold 'c1ccncc1'\n",
    "widget = visualizer.draw_for_scaffold('c1ccncc1', layout_kwargs={'name': 'breadthfirst'})\n",
    "widget.layout.height = '600px'\n",
    "widget"
   ]
  },
  {
   "cell_type": "markdown",
   "metadata": {},
   "source": [
    "A user also has the ability to add further interactivity to the visualisations using the ipywidgets interact function, an example below shows an interactive visualisation where the user can select the molecule to display using a dropdown box and also update the layout."
   ]
  },
  {
   "cell_type": "code",
   "execution_count": 26,
   "metadata": {},
   "outputs": [
    {
     "data": {
      "application/vnd.jupyter.widget-view+json": {
       "model_id": "33ca354a1d0647dbbd12751259795121",
       "version_major": 2,
       "version_minor": 0
      },
      "text/plain": [
       "interactive(children=(Dropdown(description='molecule_id', options=('1085650', '1085710', '1106125', '1113907',…"
      ]
     },
     "metadata": {},
     "output_type": "display_data"
    }
   ],
   "source": [
    "from ipywidgets import interact, fixed\n",
    "\n",
    "\n",
    "def draw(visualizer, molecule_id, layout):\n",
    "    layout_kwargs = {'name': layout}\n",
    "    widget = visualizer.draw_for_molecule(molecule_id, layout_kwargs)\n",
    "    widget.layout.height = '600px'\n",
    "    return widget\n",
    "    \n",
    "\n",
    "# Get the list of all molecules in the graph and sort.\n",
    "mol_ids = sorted(list(tree.get_molecule_nodes()))\n",
    "\n",
    "# List of a subset of available layouts in cytoscape.\n",
    "layouts = ['dagre', 'breadthfirst', 'cose']\n",
    "\n",
    "# Now create the visualization.\n",
    "interact(\n",
    "    draw,\n",
    "    visualizer=fixed(visualizer),\n",
    "    molecule_id=mol_ids,\n",
    "    layout=layouts\n",
    ");"
   ]
  }
 ],
 "metadata": {
  "kernelspec": {
   "display_name": "ScaffoldGraph",
   "language": "python",
   "name": "scaffoldgraph"
  },
  "language_info": {
   "codemirror_mode": {
    "name": "ipython",
    "version": 3
   },
   "file_extension": ".py",
   "mimetype": "text/x-python",
   "name": "python",
   "nbconvert_exporter": "python",
   "pygments_lexer": "ipython3",
   "version": "3.7.6"
  }
 },
 "nbformat": 4,
 "nbformat_minor": 4
}
